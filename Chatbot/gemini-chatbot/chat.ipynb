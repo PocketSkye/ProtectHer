{
 "cells": [
  {
   "cell_type": "code",
   "execution_count": null,
   "metadata": {},
   "outputs": [],
   "source": [
    "#chatbot yet to be integrated \n",
    "\n",
    "#link-https://www.kaggle.com/code/varunngupta/finetunebert\n",
    "\n"
   ]
  }
 ],
 "metadata": {
  "language_info": {
   "name": "python"
  }
 },
 "nbformat": 4,
 "nbformat_minor": 2
}
